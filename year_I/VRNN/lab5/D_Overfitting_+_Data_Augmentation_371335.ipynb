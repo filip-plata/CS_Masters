{
  "nbformat": 4,
  "nbformat_minor": 0,
  "metadata": {
    "colab": {
      "name": "D. Overfitting + Data Augmentation [student].ipynb",
      "version": "0.3.2",
      "provenance": [],
      "collapsed_sections": []
    },
    "kernelspec": {
      "name": "python2",
      "display_name": "Python 2"
    }
  },
  "cells": [
    {
      "metadata": {
        "id": "0DhRMLKX14vL",
        "colab_type": "text"
      },
      "cell_type": "markdown",
      "source": [
        "# CNNs: Overfitting + Data Augmentation\n",
        "\n",
        "\n",
        "### Get Ready\n",
        "\n",
        "Dataset dogs vs. cats: datasets/dogs-vs-cats-2k.zip\n",
        "\n",
        "Download, unpack and inspect the structure of our data."
      ]
    },
    {
      "metadata": {
        "id": "39ApONNnRgpa",
        "colab_type": "code",
        "colab": {}
      },
      "cell_type": "code",
      "source": [
        "# ! wget .../datasets/dogs-vs-cats-2k.zip"
      ],
      "execution_count": 0,
      "outputs": []
    },
    {
      "metadata": {
        "id": "GcGo29s9RjLK",
        "colab_type": "text"
      },
      "cell_type": "markdown",
      "source": [
        "### Data preprocessing\n",
        "\n",
        "Read images as RGB tensors and rescale them to [0,1] interval. Read images in batches of batch_size=20 and resize them to 150x150."
      ]
    },
    {
      "metadata": {
        "id": "olSIN7w-19CE",
        "colab_type": "code",
        "colab": {}
      },
      "cell_type": "code",
      "source": [
        "%tensorflow_version 2.x\n",
        "\n",
        "from tensorflow.keras.preprocessing.image import ImageDataGenerator\n",
        "\n",
        "imgs_train_dir = ''\n",
        "imgs_val_dir = ''\n",
        "\n",
        "# Rescale images\n",
        "train_datagen = ImageDataGenerator()\n",
        "test_datagen = ImageDataGenerator()\n",
        "\n",
        "train_generator = train_datagen.flow_from_directory(imgs_train_dir, target_size=, class_mode='binary')\n",
        "validation_generator = test_datagen.flow_from_directory(imgs_val_dir, target_size=, class_mode='binary')"
      ],
      "execution_count": 0,
      "outputs": []
    },
    {
      "metadata": {
        "id": "3nA6dc3V24QY",
        "colab_type": "text"
      },
      "cell_type": "markdown",
      "source": [
        "###Implement NN"
      ]
    },
    {
      "metadata": {
        "id": "omeqCh7W222z",
        "colab_type": "code",
        "colab": {}
      },
      "cell_type": "code",
      "source": [
        "from tensorflow.keras import layers\n",
        "from tensorflow.keras import models\n",
        "from tensorflow.keras import optimizers\n",
        "\n",
        "model = models.Sequential()\n",
        "model.add()  # conv 3x3 32 filters + relu\n",
        "model.add()  # max pooling 2x2\n",
        "model.add()  # conv 3x3 64 filters + relu\n",
        "model.add()  # max pooling 2x2\n",
        "model.add()  # conv 3x3 128 filters + relu\n",
        "model.add()  # max pooling 2x2\n",
        "model.add()  # conv 3x3 128 filters + relu\n",
        "model.add()  # max pooling 2x2\n",
        "model.add()  # FC 512 + relu\n",
        "model.add()  # FC + sigmoid\n",
        "model.compile(loss='binary_crossentropy', optimizer=, metrics=['acc'])  # RMSprop 1e-4 + accuracy metric"
      ],
      "execution_count": 0,
      "outputs": []
    },
    {
      "metadata": {
        "id": "2RyKsCBG3XpK",
        "colab_type": "text"
      },
      "cell_type": "markdown",
      "source": [
        "### What is the batch size?"
      ]
    },
    {
      "metadata": {
        "id": "vy3gdhUU206B",
        "colab_type": "code",
        "colab": {}
      },
      "cell_type": "code",
      "source": [
        "for data_batch, labels_batch in train_generator:\n",
        "    print('data batch shape:', data_batch.shape)\n",
        "    print('labels batch shape:', labels_batch.shape)\n",
        "    break"
      ],
      "execution_count": 0,
      "outputs": []
    },
    {
      "metadata": {
        "id": "vaeheQ6q3cxW",
        "colab_type": "text"
      },
      "cell_type": "markdown",
      "source": [
        "###Train"
      ]
    },
    {
      "metadata": {
        "id": "tUIAsB_R3dec",
        "colab_type": "code",
        "colab": {}
      },
      "cell_type": "code",
      "source": [
        "history = model.fit_generator( train_generator, steps_per_epoch=100, epochs=30, validation_data=validation_generator, validation_steps=50 )"
      ],
      "execution_count": 0,
      "outputs": []
    },
    {
      "metadata": {
        "id": "u_sL7F-03k4s",
        "colab_type": "text"
      },
      "cell_type": "markdown",
      "source": [
        "###Save a model"
      ]
    },
    {
      "metadata": {
        "id": "xiKywPcO3nMA",
        "colab_type": "code",
        "colab": {}
      },
      "cell_type": "code",
      "source": [
        "model.save('dogs_vs_cats_small_v1.h5')"
      ],
      "execution_count": 0,
      "outputs": []
    },
    {
      "metadata": {
        "id": "1Bl1UnWx3pCS",
        "colab_type": "text"
      },
      "cell_type": "markdown",
      "source": [
        "###Plot accuracy and loss"
      ]
    },
    {
      "metadata": {
        "id": "IgHtcaRW3ssT",
        "colab_type": "code",
        "colab": {}
      },
      "cell_type": "code",
      "source": [
        "import matplotlib.pyplot as plt\n",
        "\n",
        "# get from variable \"history\"\n",
        "acc = \n",
        "val_acc = \n",
        "loss = \n",
        "val_loss = \n",
        "\n",
        "epochs = \n",
        "\n",
        "plt.plot(epochs, acc, 'bo', label='Training acc')\n",
        "plt.plot(epochs, val_acc, 'b', label='Validation acc')\n",
        "plt.title('Training and validation accuracy')\n",
        "plt.legend()\n",
        "plt.figure()\n",
        "\n",
        "plt.plot(epochs, loss, 'bo', label='Training loss')\n",
        "plt.plot(epochs, val_loss, 'b', label='Validation loss')\n",
        "plt.title('Training and validation loss')\n",
        "plt.legend()\n",
        "plt.show()"
      ],
      "execution_count": 0,
      "outputs": []
    },
    {
      "metadata": {
        "id": "UfldW_ZB37cv",
        "colab_type": "text"
      },
      "cell_type": "markdown",
      "source": [
        "###Data augmentation\n",
        "Use random transformations:"
      ]
    },
    {
      "metadata": {
        "id": "4urcxwjW38mK",
        "colab_type": "code",
        "colab": {}
      },
      "cell_type": "code",
      "source": [
        "datagen = ImageDataGenerator( rotation_range=40, width_shift_range=0.2, height_shift_range=0.2, shear_range=0.2, zoom_range=0.2, horizontal_flip=True, fill_mode='nearest' )"
      ],
      "execution_count": 0,
      "outputs": []
    },
    {
      "metadata": {
        "id": "hsF3IW0y4Tjm",
        "colab_type": "text"
      },
      "cell_type": "markdown",
      "source": [
        "###Visualize:"
      ]
    },
    {
      "metadata": {
        "id": "PDJTy90L4GRx",
        "colab_type": "code",
        "colab": {}
      },
      "cell_type": "code",
      "source": [
        "from tensorflow.keras.preprocessing import image\n",
        "f = 'dogs-vs-cats-2k/train/dog/dog.70.jpg'\n",
        "img = image.load_img(f, target_size=(150, 150))\n",
        "x = image.img_to_array(img)\n",
        "x = x.reshape((1,) + x.shape)\n",
        "i = 0\n",
        "for batch in datagen.flow(x, batch_size=1):\n",
        "  plt.figure(i)\n",
        "  imgplot = plt.imshow(image.array_to_img(batch[0]))\n",
        "  i += 1\n",
        "  if i % 4 == 0:\n",
        "    break\n",
        "plt.show()"
      ],
      "execution_count": 0,
      "outputs": []
    },
    {
      "metadata": {
        "id": "Gc5a8ERl4eOR",
        "colab_type": "text"
      },
      "cell_type": "markdown",
      "source": [
        "###Add dropout 0.5 before FC."
      ]
    },
    {
      "metadata": {
        "id": "hgJ_xji-5OkZ",
        "colab_type": "code",
        "colab": {}
      },
      "cell_type": "code",
      "source": [
        ""
      ],
      "execution_count": 0,
      "outputs": []
    },
    {
      "metadata": {
        "id": "TmKZc_s95O-J",
        "colab_type": "text"
      },
      "cell_type": "markdown",
      "source": [
        "###Train"
      ]
    },
    {
      "metadata": {
        "id": "Ud10zxvx4gr7",
        "colab_type": "code",
        "colab": {}
      },
      "cell_type": "code",
      "source": [
        "train_datagen = ImageDataGenerator( rescale=1./255, rotation_range=40, width_shift_range=0.2, height_shift_range=0.2, shear_range=0.2, zoom_range=0.2, horizontal_flip=True )\n",
        "test_datagen = ImageDataGenerator( rescale=1./255 )\n",
        "train_generator = train_datagen.flow_from_directory( imgs_train_dir, target_size=(150, 150), batch_size=32, class_mode='binary' )\n",
        "validation_generator = test_datagen.flow_from_directory( imgs_val_dir, target_size=(150, 150), batch_size=32, class_mode='binary' )\n",
        "history = model.fit_generator( train_generator, steps_per_epoch=100, epochs=10, validation_data=validation_generator, validation_steps=50 )"
      ],
      "execution_count": 0,
      "outputs": []
    },
    {
      "metadata": {
        "id": "BQADOQPb4v_V",
        "colab_type": "text"
      },
      "cell_type": "markdown",
      "source": [
        "###Save a model"
      ]
    },
    {
      "metadata": {
        "id": "U6BItQxg4xij",
        "colab_type": "code",
        "colab": {}
      },
      "cell_type": "code",
      "source": [
        ""
      ],
      "execution_count": 0,
      "outputs": []
    },
    {
      "metadata": {
        "id": "A6JcnfHw4zHa",
        "colab_type": "text"
      },
      "cell_type": "markdown",
      "source": [
        "###Plot accuracy and loss"
      ]
    },
    {
      "metadata": {
        "id": "6osLPH9C41ec",
        "colab_type": "code",
        "colab": {}
      },
      "cell_type": "code",
      "source": [
        "acc = \n",
        "val_acc = \n",
        "loss = \n",
        "val_loss = \n",
        "\n",
        "epochs = \n",
        "\n",
        "plt.plot(epochs, acc, 'bo', label='Training acc')\n",
        "plt.plot(epochs, val_acc, 'b', label='Validation acc')\n",
        "plt.title('Training and validation accuracy')\n",
        "plt.legend()\n",
        "plt.figure()\n",
        "\n",
        "plt.plot(epochs, loss, 'bo', label='Training loss')\n",
        "plt.plot(epochs, val_loss, 'b', label='Validation loss')\n",
        "plt.title('Training and validation loss')\n",
        "plt.legend()\n",
        "plt.show()"
      ],
      "execution_count": 0,
      "outputs": []
    }
  ]
}
