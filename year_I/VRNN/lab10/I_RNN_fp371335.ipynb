{
  "nbformat": 4,
  "nbformat_minor": 0,
  "metadata": {
    "colab": {
      "name": "I. RNN [student].ipynb",
      "version": "0.3.2",
      "provenance": [],
      "collapsed_sections": []
    },
    "kernelspec": {
      "name": "python3",
      "display_name": "Python 3"
    },
    "accelerator": "GPU"
  },
  "cells": [
    {
      "metadata": {
        "id": "HuWDYx7ZaXh2",
        "colab_type": "text"
      },
      "cell_type": "markdown",
      "source": [
        "# Recurrent Neural Networks"
      ]
    },
    {
      "metadata": {
        "id": "upBn5zZRbBCw",
        "colab_type": "text"
      },
      "cell_type": "markdown",
      "source": [
        "A **Recurrent Neural Network (RNN)** is a class of artificial neural network where connections between nodes form a directed graph along a sequence. This allows it to exhibit temporal dynamic behavior for a time sequence. RNNs can use their internal state (memory) to process sequences of inputs.\n",
        "\n",
        "**Long Short Term Memory Networks (LSTM)** - are a special kind of RNN, capable of learning long-term dependencies.\n",
        "\n",
        "**Task** - Let's implement a NN which contains a stack of 2 LSTMs and 2 FCs. Let's experiment with Dropouts (1-3)."
      ]
    },
    {
      "metadata": {
        "id": "83tGAtx4WNXM",
        "colab_type": "code",
        "colab": {}
      },
      "cell_type": "code",
      "source": [
        "from keras.datasets import mnist\n",
        "(x_train, y_train), (x_test, y_test) = mnist.load_data()\n",
        "x_train = (x_train.astype('float32') - 127.5) / 127.5\n",
        "x_test = (x_test.astype('float32') - 127.5) / 127.5\n",
        "print(x_train.shape, x_test.shape)"
      ],
      "execution_count": 0,
      "outputs": []
    },
    {
      "metadata": {
        "id": "v7d3qYHnWinx",
        "colab_type": "code",
        "colab": {}
      },
      "cell_type": "code",
      "source": [
        "from keras.models import Sequential\n",
        "from keras.layers import Dense, Dropout, LSTM\n",
        "from keras.optimizers import Adam\n",
        "\n",
        "model = Sequential()\n",
        "''' TODO '''"
      ],
      "execution_count": 0,
      "outputs": []
    }
  ]
}
