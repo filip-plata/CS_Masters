{
  "nbformat": 4,
  "nbformat_minor": 0,
  "metadata": {
    "colab": {
      "name": "E. Transfer Learning [student].ipynb",
      "version": "0.3.2",
      "provenance": [],
      "collapsed_sections": []
    },
    "kernelspec": {
      "name": "python2",
      "display_name": "Python 2"
    },
    "accelerator": "GPU"
  },
  "cells": [
    {
      "metadata": {
        "id": "BRwdqLD-fW66",
        "colab_type": "text"
      },
      "cell_type": "markdown",
      "source": [
        "# Transfer Learning\n",
        "\n",
        "\n",
        "### Get Ready\n",
        "\n",
        "Dataset dogs vs. cats: datasets/dogs-vs-cats-2k.zip\n",
        "\n",
        "Download, unpack and inspect the structure of our data."
      ]
    },
    {
      "metadata": {
        "id": "VumAxXaUWJfv",
        "colab_type": "code",
        "colab": {}
      },
      "cell_type": "code",
      "source": [
        "# ! wget .../datasets/dogs-vs-cats-2k.zip"
      ],
      "execution_count": 0,
      "outputs": []
    },
    {
      "metadata": {
        "id": "P6Q1cHrsaMej",
        "colab_type": "text"
      },
      "cell_type": "markdown",
      "source": [
        "## Use VGG16 for feature extraction\n"
      ]
    },
    {
      "metadata": {
        "id": "_7PMEQ4bWQCU",
        "colab_type": "text"
      },
      "cell_type": "markdown",
      "source": [
        "Implement data generators as in the previous lab."
      ]
    },
    {
      "metadata": {
        "id": "wkEf1xZNddXc",
        "colab_type": "code",
        "colab": {}
      },
      "cell_type": "code",
      "source": [
        "from keras.preprocessing.image import ImageDataGenerator\n",
        "imgs_train_dir = '''#TODO'''\n",
        "imgs_val_dir = '''#TODO'''\n",
        "train_datagen = ImageDataGenerator( '''#TODO''' )\n",
        "test_datagen = ImageDataGenerator( '''#TODO''' )\n",
        "train_generator = train_datagen.flow_from_directory( '''#TODO''' )\n",
        "validation_generator = test_datagen.flow_from_directory('''#TODO''' )"
      ],
      "execution_count": 0,
      "outputs": []
    },
    {
      "metadata": {
        "id": "4rviO7-KWaXq",
        "colab_type": "text"
      },
      "cell_type": "markdown",
      "source": [
        "Use VGG16 for feature extraction"
      ]
    },
    {
      "metadata": {
        "id": "u5MsDjUQZ5cg",
        "colab_type": "code",
        "colab": {}
      },
      "cell_type": "code",
      "source": [
        "from keras.applications import VGG16\n",
        "from keras import models\n",
        "from keras import layers\n",
        "vgg16 = VGG16(#TODO)\n",
        "\n",
        "model = models.Sequential()\n",
        "model.add(vgg16)\n",
        "# and add Dense 256 relu + Dense 1 sigmoid\n",
        "# set trainable weights"
      ],
      "execution_count": 0,
      "outputs": []
    },
    {
      "metadata": {
        "id": "ARuOUjkjb6z2",
        "colab_type": "code",
        "colab": {}
      },
      "cell_type": "code",
      "source": [
        "from keras import optimizers\n",
        "model.compile('''#TODO''')  # loss, optimizer=RMSprop, metrics=acc\n",
        "history = model.fit_generator( train_generator, steps_per_epoch=100, epochs=100, validation_data=validation_generator, validation_steps=50 )"
      ],
      "execution_count": 0,
      "outputs": []
    },
    {
      "metadata": {
        "id": "NdPk5o_mYiHT",
        "colab_type": "text"
      },
      "cell_type": "markdown",
      "source": [
        "### Plot accuracy and loss"
      ]
    },
    {
      "metadata": {
        "id": "LSO8dtYldLJf",
        "colab_type": "code",
        "colab": {}
      },
      "cell_type": "code",
      "source": [
        "import matplotlib.pyplot as plt\n",
        "\n",
        "# get from variable \"history\"\n",
        "acc = \n",
        "val_acc = \n",
        "loss = \n",
        "val_loss = \n",
        "\n",
        "epochs = \n",
        "\n",
        "plt.plot(epochs, acc, 'bo', label='Training acc')\n",
        "plt.plot(epochs, val_acc, 'b', label='Validation acc')\n",
        "plt.title('Training and validation accuracy')\n",
        "plt.legend()\n",
        "\n",
        "plt.figure()\n",
        "\n",
        "plt.plot(epochs, loss, 'bo', label='Training loss')\n",
        "plt.plot(epochs, val_loss, 'b', label='Validation loss')\n",
        "plt.title('Training and validation loss')\n",
        "plt.legend()\n",
        "\n",
        "plt.show()"
      ],
      "execution_count": 0,
      "outputs": []
    },
    {
      "metadata": {
        "id": "O2rcRcvZq5-t",
        "colab_type": "text"
      },
      "cell_type": "markdown",
      "source": [
        "## Fine-tuning\n",
        "Freeze & train VGG 16: except the last 1, 2, 3, ... layers. How does it impact the accuracy and training time?"
      ]
    },
    {
      "metadata": {
        "id": "5zN9b_00rVjC",
        "colab_type": "code",
        "colab": {}
      },
      "cell_type": "code",
      "source": [
        ""
      ],
      "execution_count": 0,
      "outputs": []
    }
  ]
}