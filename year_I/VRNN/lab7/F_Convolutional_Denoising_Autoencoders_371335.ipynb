{
  "nbformat": 4,
  "nbformat_minor": 0,
  "metadata": {
    "colab": {
      "name": "F. Convolutional Denoising Autoencoders [student].ipynb",
      "provenance": [],
      "collapsed_sections": []
    },
    "kernelspec": {
      "name": "python3",
      "display_name": "Python 3"
    }
  },
  "cells": [
    {
      "cell_type": "markdown",
      "metadata": {
        "id": "Eha67sTteOnE",
        "colab_type": "text"
      },
      "source": [
        "##  Before we begin: Dataset\n",
        "Read and prepare data.\n",
        "\n",
        "Dataset: MNIST."
      ]
    },
    {
      "cell_type": "code",
      "metadata": {
        "id": "dNh7vGKSeJ3i",
        "colab_type": "code",
        "colab": {}
      },
      "source": [
        "%tensorflow_version 2.x\n",
        "from tensorflow.keras.datasets import mnist\n",
        "import numpy as np\n",
        "\n",
        "(x_train, _), (x_test, _) = mnist.load_data()\n",
        "\n",
        "x_train = x_train.astype('float32') / 255.\n",
        "x_test = x_test.astype('float32') / 255.\n",
        "x_train = np.reshape(x_train, (len(x_train), 28, 28, 1))\n",
        "x_test = np.reshape(x_test, (len(x_test), 28, 28, 1))"
      ],
      "execution_count": 0,
      "outputs": []
    },
    {
      "cell_type": "markdown",
      "metadata": {
        "id": "Zl7ryJMrWjQ6",
        "colab_type": "text"
      },
      "source": [
        "#Convolutional autoencoder\n",
        "Network:\n",
        "- 3x3 Conv2D, filters=16, relu, padding=same\n",
        "- 2x2 MaxPooling2D, padding=same\n",
        "- 3x3 Conv2D filters=8, relu, padding=same\n",
        "- 2x2 MaxPooling2D, padding=same\n",
        "- 3x3 Conv2D filters=8, relu, padding=same\n",
        "- 2x2 MaxPooling2D, padding=same\n",
        "- 3x3 Conv2D filters=8, relu, padding=same\n",
        "- 2x2 UpSampling2D\n",
        "- 3x3 Conv2D filters=8, relu, padding=same\n",
        "- 2x2 UpSampling2D\n",
        "- 3x3 Conv2D filters=16, relu\n",
        "- 2x2 UpSampling2D\n",
        "- 3x3 Conv2D filters=1, sigmoid, padding=same\n",
        "\n",
        "and train it with adadelta and binary_crossentropy.\n",
        "\n",
        "Question: What is the size of the input, output and compressed representations?"
      ]
    },
    {
      "cell_type": "code",
      "metadata": {
        "id": "CrRDs-HCWlgv",
        "colab_type": "code",
        "colab": {}
      },
      "source": [
        "from tensorflow.keras.layers import Input, Dense, Conv2D, MaxPooling2D, UpSampling2D\n",
        "from tensorflow.keras.models import Model\n",
        "from tensorflow.keras.optimizers import Adadelta\n",
        "\n",
        "#TODO\n",
        "\n",
        "autoencoder = Model(#TODO)\n",
        "autoencoder.compile(#TODO)\n"
      ],
      "execution_count": 0,
      "outputs": []
    },
    {
      "cell_type": "code",
      "metadata": {
        "id": "X6X1Uhb9W1Gw",
        "colab_type": "code",
        "colab": {}
      },
      "source": [
        "autoencoder.fit(x_train, x_train, epochs=50, batch_size=128, shuffle=True, validation_data=(x_test, x_test))"
      ],
      "execution_count": 0,
      "outputs": []
    },
    {
      "cell_type": "code",
      "metadata": {
        "id": "3cb6w7IlW8Eg",
        "colab_type": "code",
        "colab": {}
      },
      "source": [
        "import matplotlib.pyplot as plt\n",
        "\n",
        "decoded_imgs = autoencoder.predict(x_test)\n",
        "\n",
        "n = 10\n",
        "plt.figure(figsize=(20, 4))\n",
        "for i in range(n):\n",
        "  # test image\n",
        "  ax = plt.subplot(2, n, i + 1)\n",
        "  plt.imshow(x_test[i].reshape(28, 28))\n",
        "  plt.gray()\n",
        "  ax.get_xaxis().set_visible(False)\n",
        "  ax.get_yaxis().set_visible(False)\n",
        "  \n",
        "  # reconstructed image\n",
        "  ax = plt.subplot(2, n, i + n + 1)\n",
        "  plt.imshow(decoded_imgs[i].reshape(28, 28))\n",
        "  plt.gray()\n",
        "  ax.get_xaxis().set_visible(False)\n",
        "  ax.get_yaxis().set_visible(False)\n",
        "plt.show()"
      ],
      "execution_count": 0,
      "outputs": []
    },
    {
      "cell_type": "markdown",
      "metadata": {
        "id": "8U650uEhbb7Z",
        "colab_type": "text"
      },
      "source": [
        "# Denoising Autoencoder\n",
        "\n",
        "Let's generate synthetic noisy digits applying a gaussian noise matrix and clipping images between 0 and 1."
      ]
    },
    {
      "cell_type": "code",
      "metadata": {
        "id": "MqFpvOCDbdUj",
        "colab_type": "code",
        "colab": {}
      },
      "source": [
        "noise_factor = 0.5\n",
        "x_train_noisy = x_train + noise_factor * np.random.normal(loc=0.0, scale=1.0, size=x_train.shape) \n",
        "x_test_noisy = x_test + noise_factor * np.random.normal(loc=0.0, scale=1.0, size=x_test.shape) \n",
        "x_train_noisy = np.clip(x_train_noisy, 0., 1.)\n",
        "x_test_noisy = np.clip(x_test_noisy, 0., 1.)"
      ],
      "execution_count": 0,
      "outputs": []
    },
    {
      "cell_type": "markdown",
      "metadata": {
        "id": "wGQyzmdsfQf8",
        "colab_type": "text"
      },
      "source": [
        "Show sample noisy test images"
      ]
    },
    {
      "cell_type": "code",
      "metadata": {
        "id": "FO7FY0lubd8P",
        "colab_type": "code",
        "colab": {}
      },
      "source": [
        "n = 10\n",
        "plt.figure(figsize=(20, 2))\n",
        "for i in range(n):\n",
        "  ax = plt.subplot(1, n, i + 1)\n",
        "  plt.imshow(x_test_noisy[i].reshape(28, 28))\n",
        "  plt.gray()\n",
        "  ax.get_xaxis().set_visible(False)\n",
        "  ax.get_yaxis().set_visible(False)\n",
        "plt.show()"
      ],
      "execution_count": 0,
      "outputs": []
    },
    {
      "cell_type": "markdown",
      "metadata": {
        "id": "uuLbBhP_hX1X",
        "colab_type": "text"
      },
      "source": [
        "Let's define a network:\n",
        "- 3x3 Conv2D, filters=32, relu, padding=same\n",
        "- 2x2 MaxPooling2D, padding=same\n",
        "- 3x3 Conv2D, filters=32, relu, padding=same\n",
        "- 2x2 MaxPooling2D, padding=same\n",
        "- 3x3 Conv2D, filters=32, relu, padding=same\n",
        "- 2x2 UpSampling2D\n",
        "- 3x3 Conv2D, filters=32, relu, padding=same\n",
        "- 2x2 UpSampling2D\n",
        "- 3x3 Conv2D, filters=1, sigmoid, padding=same\n",
        "\n",
        "and train it with adadelta and binary_crossentropy.\n",
        "\n",
        "Question: What is the size of the input, output and compressed representations?"
      ]
    },
    {
      "cell_type": "code",
      "metadata": {
        "id": "czkjrcLpbgjU",
        "colab_type": "code",
        "colab": {}
      },
      "source": [
        "#TODO"
      ],
      "execution_count": 0,
      "outputs": []
    },
    {
      "cell_type": "code",
      "metadata": {
        "id": "ANqgor0Cbn1m",
        "colab_type": "code",
        "colab": {}
      },
      "source": [
        "autoencoder.fit(x_train_noisy, x_train, epochs=100, batch_size=128, shuffle=True, validation_data=(x_test_noisy, x_test))"
      ],
      "execution_count": 0,
      "outputs": []
    },
    {
      "cell_type": "code",
      "metadata": {
        "id": "DJ6k5bUlbtzg",
        "colab_type": "code",
        "colab": {}
      },
      "source": [
        "decoded_imgs = autoencoder.predict(x_test_noisy)\n",
        "\n",
        "n = 10\n",
        "plt.figure(figsize=(20, 6))\n",
        "for i in range(n):\n",
        "    # x_test_noisy image\n",
        "    ax = plt.subplot(3, n, i + 1)\n",
        "    plt.imshow(x_test_noisy[i].reshape(28, 28))\n",
        "    plt.gray()\n",
        "    ax.get_xaxis().set_visible(False)\n",
        "    ax.get_yaxis().set_visible(False)\n",
        "\n",
        "    # reconstructed image\n",
        "    ax = plt.subplot(3, n, i + n + 1)\n",
        "    plt.imshow(decoded_imgs[i].reshape(28, 28))\n",
        "    plt.gray()\n",
        "    ax.get_xaxis().set_visible(False)\n",
        "    ax.get_yaxis().set_visible(False)\n",
        "    \n",
        "    # x_test image\n",
        "    ax = plt.subplot(3, n, i + n + n + 1)\n",
        "    plt.imshow(x_test[i].reshape(28, 28))\n",
        "    plt.gray()\n",
        "    ax.get_xaxis().set_visible(False)\n",
        "    ax.get_yaxis().set_visible(False)\n",
        "plt.show()"
      ],
      "execution_count": 0,
      "outputs": []
    }
  ]
}