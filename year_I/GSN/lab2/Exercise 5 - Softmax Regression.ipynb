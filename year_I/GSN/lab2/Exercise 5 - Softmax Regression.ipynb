{
 "cells": [
  {
   "cell_type": "markdown",
   "metadata": {},
   "source": [
    "# Softmax regression\n",
    "\n",
    "In this exercise you will train a softmax regression model to recognize handwritten digits.\n",
    "  \n",
    "The general setup is as follows:\n",
    "* we are given a set of pairs $(x, y)$, where $x \\in R^D$ is a vector of real numbers representing the features, and $y \\in \\{1,...,c\\}$ is the target (in our case we have ten classes, so $c=10$),\n",
    "* for a given $x$ we model the probability of $y=j$ by $$h(x)_j=p_j = \\frac{e^{w_j^Tx}}{\\sum_{i=1}^c e^{w_i^Tx}},$$\n",
    "* to find the right $w$ we will optimize the so called multiclass log loss:\n",
    "$$L(y,p) = \\log{p_y},$$\n",
    "$$J(w) = -\\frac{1}{n}\\sum_{i=1}^n L(y_i,h(x)),$$\n",
    "* with the loss function in hand we can improve our guesses iteratively:\n",
    "    * $w_{ij}^{t+1} = w_{ij}^t - \\text{step_size} \\cdot \\frac{\\partial J(w)}{\\partial w_{ij}}$,\n",
    "* we can end the process after some predefined number of epochs (or when the changes are no longer meaningful)."
   ]
  },
  {
   "cell_type": "markdown",
   "metadata": {},
   "source": [
    "Let's start with importing the MNIST dataset."
   ]
  },
  {
   "cell_type": "code",
   "execution_count": 1,
   "metadata": {},
   "outputs": [
    {
     "name": "stdout",
     "output_type": "stream",
     "text": [
      "--2019-03-08 17:32:14--  https://s3.amazonaws.com/img-datasets/mnist.npz\n",
      "Translacja s3.amazonaws.com (s3.amazonaws.com)... 52.216.230.37\n",
      "Łączenie się z s3.amazonaws.com (s3.amazonaws.com)|52.216.230.37|:443... połączono.\n",
      "Żądanie HTTP wysłano, oczekiwanie na odpowiedź... 200 OK\n",
      "Długość: 11490434 (11M) [application/octet-stream]\n",
      "Zapis do: `mnist.npz'\n",
      "\n",
      "mnist.npz           100%[===================>]  10,96M  4,15MB/s    w 2,6s     \n",
      "\n",
      "2019-03-08 17:32:19 (4,15 MB/s) - zapisano `mnist.npz' [11490434/11490434]\n",
      "\n"
     ]
    }
   ],
   "source": [
    "!wget -O mnist.npz https://s3.amazonaws.com/img-datasets/mnist.npz"
   ]
  },
  {
   "cell_type": "code",
   "execution_count": 1,
   "metadata": {},
   "outputs": [],
   "source": [
    "%matplotlib inline\n",
    "\n",
    "import matplotlib.pyplot as plt\n",
    "import numpy as np\n",
    "import pandas as pd\n",
    "import seaborn as sns\n",
    "\n",
    "def load_mnist(path='mnist.npz'):\n",
    "    with np.load(path) as f:\n",
    "        x_train, _y_train = f['x_train'], f['y_train']\n",
    "        x_test, _y_test = f['x_test'], f['y_test']\n",
    "        \n",
    "    x_train = x_train.reshape(-1, 28 * 28) / 255.\n",
    "    x_test = x_test.reshape(-1, 28 * 28) / 255.\n",
    "    \n",
    "    y_train = np.zeros((_y_train.shape[0], 10))\n",
    "    y_train[np.arange(_y_train.shape[0]), _y_train] = 1\n",
    "    \n",
    "    y_test = np.zeros((_y_test.shape[0], 10))\n",
    "    y_test[np.arange(_y_test.shape[0]), _y_test] = 1\n",
    "\n",
    "    return (x_train, y_train), (x_test, y_test)\n",
    "\n",
    "(x_train, y_train), (x_test, y_test) = load_mnist()"
   ]
  },
  {
   "cell_type": "markdown",
   "metadata": {},
   "source": [
    "Let's take a look at the data. In the \"x\" arrays you'll find the images (encoded as pixel intensities) and in the \"y\" ones you'll find the labels (one-hot encoded)."
   ]
  },
  {
   "cell_type": "code",
   "execution_count": 2,
   "metadata": {},
   "outputs": [
    {
     "name": "stdout",
     "output_type": "stream",
     "text": [
      "(60000, 784)\n",
      "(60000, 10)\n",
      "[[0. 0. 0. ... 0. 0. 0.]\n",
      " [0. 0. 0. ... 0. 0. 0.]\n",
      " [0. 0. 0. ... 0. 0. 0.]\n",
      " ...\n",
      " [0. 0. 0. ... 0. 0. 0.]\n",
      " [0. 0. 0. ... 0. 0. 0.]\n",
      " [0. 0. 0. ... 0. 0. 0.]]\n",
      "[[0. 0. 0. 0. 0. 1. 0. 0. 0. 0.]\n",
      " [1. 0. 0. 0. 0. 0. 0. 0. 0. 0.]\n",
      " [0. 0. 0. 0. 1. 0. 0. 0. 0. 0.]\n",
      " [0. 1. 0. 0. 0. 0. 0. 0. 0. 0.]\n",
      " [0. 0. 0. 0. 0. 0. 0. 0. 0. 1.]\n",
      " [0. 0. 1. 0. 0. 0. 0. 0. 0. 0.]\n",
      " [0. 1. 0. 0. 0. 0. 0. 0. 0. 0.]\n",
      " [0. 0. 0. 1. 0. 0. 0. 0. 0. 0.]\n",
      " [0. 1. 0. 0. 0. 0. 0. 0. 0. 0.]\n",
      " [0. 0. 0. 0. 1. 0. 0. 0. 0. 0.]]\n"
     ]
    }
   ],
   "source": [
    "print (x_train.shape)\n",
    "print (y_train.shape)\n",
    "\n",
    "print (x_train[:10])\n",
    "print (y_train[:10])"
   ]
  },
  {
   "cell_type": "markdown",
   "metadata": {},
   "source": [
    "Now let us see the data in a more human way."
   ]
  },
  {
   "cell_type": "code",
   "execution_count": 6,
   "metadata": {},
   "outputs": [
    {
     "data": {
      "image/png": "[encoded data removed]",
      "text/plain": [
       "<Figure size 1080x1080 with 20 Axes>"
      ]
     },
     "metadata": {
      "needs_background": "light"
     },
     "output_type": "display_data"
    }
   ],
   "source": [
    "num_samples = 20\n",
    "samples = range(num_samples)\n",
    "fig, subplots = plt.subplots(1, num_samples)\n",
    "fig.set_size_inches(15, 15)\n",
    "\n",
    "for i, s in enumerate(subplots.flatten()):\n",
    "    s.imshow(np.reshape(x_train[i, :], [28, 28]), cmap='gray')\n",
    "    s.axis('off')"
   ]
  },
  {
   "cell_type": "markdown",
   "metadata": {},
   "source": [
    "Next, we prepare $X$ and $y$ variables"
   ]
  },
  {
   "cell_type": "code",
   "execution_count": 7,
   "metadata": {},
   "outputs": [
    {
     "name": "stdout",
     "output_type": "stream",
     "text": [
      "(60000, 784)\n",
      "(60000, 10)\n"
     ]
    }
   ],
   "source": [
    "X = x_train[:60000]\n",
    "y = y_train[:60000]\n",
    "\n",
    "print (X.shape)\n",
    "print (y.shape)"
   ]
  },
  {
   "cell_type": "markdown",
   "metadata": {},
   "source": [
    "To train the model we will (obviously) use gradient descent. Inside the loop we need a method to compute the gradients. Let's start with implementing it, together with some helper functions."
   ]
  },
  {
   "cell_type": "code",
   "execution_count": 8,
   "metadata": {},
   "outputs": [],
   "source": [
    "# We will store the weights in a D x c matrix, where D is the number of features, and c is the number of classes\n",
    "#weights = (...) # TODO: Fill in, be sure to have the right shape!\n",
    "weights = np.zeros([X.shape[1], 10])\n",
    "\n",
    "\n",
    "def softmax(z):\n",
    "    ########################################\n",
    "    # TODO: implement the softmax function #\n",
    "    ########################################\n",
    "    exps = 1 / (1 + np.exp(-z))\n",
    "    return exps / exps.sum(axis=1)[:,None]\n",
    "\n",
    "def predict(weights, X):\n",
    "    ###################################\n",
    "    # TODO: compute the probabilities #\n",
    "    ###################################\n",
    "    z = np.dot(X, weights)\n",
    "    return softmax(z)\n",
    "\n",
    "def multiclass_log_loss(y, predictions):\n",
    "    return -(np.log(predictions).reshape(-1, 1) * y.reshape(-1, 1)).mean()\n",
    "\n",
    "def compute_loss_and_gradients(weights, X, y, l2_reg):\n",
    "    #############################################################################\n",
    "    # TODO: compute loss and gradients, don't forget to include regularization! #\n",
    "    #############################################################################\n",
    "    predictions = predict(weights, X)\n",
    "    loss = multiclass_log_loss(y, predictions)\n",
    "    grad = - (np.dot(X.T, (y - predictions))) / len(y) + 2 * l2_reg * weights\n",
    "    return loss, grad\n"
   ]
  },
  {
   "cell_type": "markdown",
   "metadata": {},
   "source": [
    "We are now in position to complete the training pipeline.\n",
    "\n",
    "If you have problems with convergence, be sure to check the gradients numerically."
   ]
  },
  {
   "cell_type": "code",
   "execution_count": 9,
   "metadata": {
    "scrolled": false
   },
   "outputs": [
    {
     "data": {
      "text/plain": [
       "[<matplotlib.lines.Line2D at 0x7fb119f8fa58>]"
      ]
     },
     "execution_count": 9,
     "metadata": {},
     "output_type": "execute_result"
    },
    {
     "data": {
      "image/png": "[encoded data removed]",
      "text/plain": [
       "<Figure size 432x288 with 1 Axes>"
      ]
     },
     "metadata": {
      "needs_background": "light"
     },
     "output_type": "display_data"
    }
   ],
   "source": [
    "l2_reg = 0.18\n",
    "n_epochs = 100\n",
    "lr = 0.2\n",
    "\n",
    "losses = []\n",
    "for i in range(n_epochs):\n",
    "    loss, grad = compute_loss_and_gradients(weights, X, y, l2_reg)\n",
    "    losses.append(loss)\n",
    "    \n",
    "    weights -= lr * grad\n",
    "\n",
    "plt.plot(losses)"
   ]
  },
  {
   "cell_type": "markdown",
   "metadata": {},
   "source": [
    "Now compute your accuracy on the training and test sets."
   ]
  },
  {
   "cell_type": "code",
   "execution_count": 10,
   "metadata": {},
   "outputs": [
    {
     "name": "stdout",
     "output_type": "stream",
     "text": [
      "76.09\n"
     ]
    }
   ],
   "source": [
    "##############################\n",
    "# TODO: compute the accuracy #\n",
    "##############################\n",
    "# around 80% accuracy is possible\n",
    "\n",
    "prediction_test = predict(weights, x_test)\n",
    "\n",
    "prediction_class = np.fromiter( map(lambda x: max(zip(x, range(len(x))))[1], prediction_test), dtype=int)\n",
    "y_test_class = np.fromiter( map(lambda x: max(zip(x, range(len(x))))[1], y_test), dtype=int)\n",
    "prediction_result = sum(map(lambda x: x[0] == x[1], zip(prediction_class, y_test_class)))\n",
    "\n",
    "print(prediction_result / len(y_test) * 100)"
   ]
  },
  {
   "cell_type": "markdown",
   "metadata": {},
   "source": [
    "We can also visualize the weights learned by our algorithm. Try to anticipate the result before executing the cell below."
   ]
  },
  {
   "cell_type": "code",
   "execution_count": 11,
   "metadata": {},
   "outputs": [
    {
     "data": {
      "image/png": "[encoded data removed]",
      "text/plain": [
       "<Figure size 1080x1080 with 10 Axes>"
      ]
     },
     "metadata": {
      "needs_background": "light"
     },
     "output_type": "display_data"
    }
   ],
   "source": [
    "fig, subplots = plt.subplots(1, 10)\n",
    "fig.set_size_inches(15, 15)\n",
    "\n",
    "for i, s in enumerate(subplots.flatten()):\n",
    "    s.imshow(np.reshape(np.array(weights[:, i]), [28, 28]), cmap='gray')\n",
    "    s.axis('off')"
   ]
  },
  {
   "cell_type": "markdown",
   "metadata": {
    "collapsed": true
   },
   "source": [
    "Note that we only used a small portion of the data to develop the model. Now, implement the training on full data. Also, validate your model properly and find a good value for `l2_reg` hyperparameter. Try to experiment with `batch_size`."
   ]
  },
  {
   "cell_type": "code",
   "execution_count": null,
   "metadata": {},
   "outputs": [],
   "source": [
    "################################################\n",
    "# TODO: implement the proper training pipeline #\n",
    "################################################"
   ]
  }
 ],
 "metadata": {
  "kernelspec": {
   "display_name": "Python 2",
   "language": "python",
   "name": "python2"
  },
  "language_info": {
   "codemirror_mode": {
    "name": "ipython",
    "version": 3
   },
   "file_extension": ".py",
   "mimetype": "text/x-python",
   "name": "python",
   "nbconvert_exporter": "python",
   "pygments_lexer": "ipython3",
   "version": "3.6.7"
  }
 },
 "nbformat": 4,
 "nbformat_minor": 1
}
