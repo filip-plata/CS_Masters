{
 "cells": [
  {
   "cell_type": "markdown",
   "metadata": {},
   "source": [
    "# Linear regression \n",
    "\n",
    "In this exercise you will use linear regression to predict flat prices. One more time, training will be handled via gradient descent. Although, contratry to the first exercise, we will now:\n",
    "* have multiple features (i.e. variables used to make the prediction),\n",
    "* employ some basic feature engineering,\n",
    "* work with a different loss function.\n",
    "\n",
    "Let's start with getting the data."
   ]
  },
  {
   "cell_type": "code",
   "execution_count": 1,
   "metadata": {},
   "outputs": [
    {
     "name": "stdout",
     "output_type": "stream",
     "text": [
      "--2019-03-01 09:16:30--  https://www.dropbox.com/s/zey0gx91pna8irj/mieszkania.csv?dl=1\n",
      "Translacja www.dropbox.com (www.dropbox.com)... 162.125.70.1, 2620:100:6026:1::a27d:4601\n",
      "Łączenie się z www.dropbox.com (www.dropbox.com)|162.125.70.1|:443... połączono.\n",
      "Żądanie HTTP wysłano, oczekiwanie na odpowiedź... 301 Moved Permanently\n",
      "Lokalizacja: /s/dl/zey0gx91pna8irj/mieszkania.csv [podążanie]\n",
      "--2019-03-01 09:16:31--  https://www.dropbox.com/s/dl/zey0gx91pna8irj/mieszkania.csv\n",
      "Ponowne użycie połączenia do www.dropbox.com:443.\n",
      "Żądanie HTTP wysłano, oczekiwanie na odpowiedź... 302 Found\n",
      "Lokalizacja: https://uc7eb5410fe2e0bc3e0e5f3fb672.dl.dropboxusercontent.com/cd/0/get/AcPUT6VixYi3hd8zt3xqx17g-Lm5vs-fhGSCnx0DeIsEYd4Fbtut1aV90dMYBWBCPwyQRMF62NoXQF9HJb8_ovLHcbNRi6pcNXm5PggULP3z3Q/file?dl=1# [podążanie]\n",
      "--2019-03-01 09:16:32--  https://uc7eb5410fe2e0bc3e0e5f3fb672.dl.dropboxusercontent.com/cd/0/get/AcPUT6VixYi3hd8zt3xqx17g-Lm5vs-fhGSCnx0DeIsEYd4Fbtut1aV90dMYBWBCPwyQRMF62NoXQF9HJb8_ovLHcbNRi6pcNXm5PggULP3z3Q/file?dl=1\n",
      "Translacja uc7eb5410fe2e0bc3e0e5f3fb672.dl.dropboxusercontent.com (uc7eb5410fe2e0bc3e0e5f3fb672.dl.dropboxusercontent.com)... 162.125.70.6, 2620:100:6026:6::a27d:4606\n",
      "Łączenie się z uc7eb5410fe2e0bc3e0e5f3fb672.dl.dropboxusercontent.com (uc7eb5410fe2e0bc3e0e5f3fb672.dl.dropboxusercontent.com)|162.125.70.6|:443... połączono.\n",
      "Żądanie HTTP wysłano, oczekiwanie na odpowiedź... 200 OK\n",
      "Długość: 6211 (6,1K) [application/binary]\n",
      "Zapis do: `mieszkania.csv'\n",
      "\n",
      "mieszkania.csv      100%[===================>]   6,07K  --.-KB/s    w 0s       \n",
      "\n",
      "2019-03-01 09:16:33 (228 MB/s) - zapisano `mieszkania.csv' [6211/6211]\n",
      "\n",
      "--2019-03-01 09:16:33--  https://www.dropbox.com/s/dbrj6sbxb4ayqjz/mieszkania_test.csv?dl=1\n",
      "Translacja www.dropbox.com (www.dropbox.com)... 162.125.70.1, 2620:100:6026:1::a27d:4601\n",
      "Łączenie się z www.dropbox.com (www.dropbox.com)|162.125.70.1|:443... połączono.\n",
      "Żądanie HTTP wysłano, oczekiwanie na odpowiedź... 301 Moved Permanently\n",
      "Lokalizacja: /s/dl/dbrj6sbxb4ayqjz/mieszkania_test.csv [podążanie]\n",
      "--2019-03-01 09:16:34--  https://www.dropbox.com/s/dl/dbrj6sbxb4ayqjz/mieszkania_test.csv\n",
      "Ponowne użycie połączenia do www.dropbox.com:443.\n",
      "Żądanie HTTP wysłano, oczekiwanie na odpowiedź... 302 Found\n",
      "Lokalizacja: https://uc43681061911612714b0aafdfac.dl.dropboxusercontent.com/cd/0/get/AcPv35WTmpc22n0rp2LvFiKBNvn8KW1IT_PjT8Q-24hnehzwF9t889Z3YD3857dvIRfGONNG5MufP95P4FULW8XV1RoWho6atmyVl6iJl2NRMQ/file?dl=1# [podążanie]\n",
      "--2019-03-01 09:16:34--  https://uc43681061911612714b0aafdfac.dl.dropboxusercontent.com/cd/0/get/AcPv35WTmpc22n0rp2LvFiKBNvn8KW1IT_PjT8Q-24hnehzwF9t889Z3YD3857dvIRfGONNG5MufP95P4FULW8XV1RoWho6atmyVl6iJl2NRMQ/file?dl=1\n",
      "Translacja uc43681061911612714b0aafdfac.dl.dropboxusercontent.com (uc43681061911612714b0aafdfac.dl.dropboxusercontent.com)... 162.125.70.6, 2620:100:6026:6::a27d:4606\n",
      "Łączenie się z uc43681061911612714b0aafdfac.dl.dropboxusercontent.com (uc43681061911612714b0aafdfac.dl.dropboxusercontent.com)|162.125.70.6|:443... połączono.\n",
      "Żądanie HTTP wysłano, oczekiwanie na odpowiedź... 200 OK\n",
      "Długość: 6247 (6,1K) [application/binary]\n",
      "Zapis do: `mieszkania_test.csv'\n",
      "\n",
      "mieszkania_test.csv 100%[===================>]   6,10K  --.-KB/s    w 0s       \n",
      "\n",
      "2019-03-01 09:16:35 (256 MB/s) - zapisano `mieszkania_test.csv' [6247/6247]\n",
      "\n"
     ]
    }
   ],
   "source": [
    "%matplotlib inline\n",
    "\n",
    "!wget -O mieszkania.csv https://www.dropbox.com/s/zey0gx91pna8irj/mieszkania.csv?dl=1\n",
    "!wget -O mieszkania_test.csv https://www.dropbox.com/s/dbrj6sbxb4ayqjz/mieszkania_test.csv?dl=1"
   ]
  },
  {
   "cell_type": "code",
   "execution_count": 2,
   "metadata": {},
   "outputs": [
    {
     "name": "stdout",
     "output_type": "stream",
     "text": [
      "==> mieszkania.csv <==\r\n",
      "m2,dzielnica,ilość_sypialni,ilość_łazienek,rok_budowy,parking_podziemny,cena\r\n",
      "104,mokotowo,2,2,1940,1,780094\r\n",
      "43,ochotowo,1,1,1970,1,346912\r\n",
      "128,grodziskowo,3,2,1916,1,523466\r\n",
      "112,mokotowo,3,2,1920,1,830965\r\n",
      "149,mokotowo,3,3,1977,0,1090479\r\n",
      "80,ochotowo,2,2,1937,0,599060\r\n",
      "58,ochotowo,2,1,1922,0,463639\r\n",
      "23,ochotowo,1,1,1929,0,166785\r\n",
      "40,mokotowo,1,1,1973,0,318849\r\n",
      "\r\n",
      "==> mieszkania_test.csv <==\r\n",
      "m2,dzielnica,ilość_sypialni,ilość_łazienek,rok_budowy,parking_podziemny,cena\r\n",
      "71,wolowo,2,2,1912,1,322227\r\n",
      "45,mokotowo,1,1,1938,0,295878\r\n",
      "38,mokotowo,1,1,1999,1,306530\r\n",
      "70,ochotowo,2,2,1980,1,553641\r\n",
      "136,mokotowo,3,2,1939,1,985348\r\n",
      "128,wolowo,3,2,1983,1,695726\r\n",
      "23,grodziskowo,1,1,1975,0,99751\r\n",
      "117,mokotowo,3,2,1942,0,891261\r\n",
      "65,ochotowo,2,1,2002,1,536499\r\n"
     ]
    }
   ],
   "source": [
    "!head mieszkania.csv mieszkania_test.csv"
   ]
  },
  {
   "cell_type": "markdown",
   "metadata": {},
   "source": [
    "Each row in the data represents a separate property. Our goal is to use the data from `mieszkania.csv` to create a model that can predict a property's price (i.e. `cena`) given its features (i.e. `m2,dzielnica,ilosc_sypialni,ilosc_lazienek,rok_budowy,parking_podziemny`). \n",
    "\n",
    "From now on, we should interfere only with `mieszkania.csv` (dubbed the training dataset) to make our decisions and create the model. The (only) purpose of `mieszkania_test.csv` is to test our model on **unseen** data.\n",
    "\n",
    "Our predictions should minimize the so-called mean squared logarithmic error:\n",
    "$$\n",
    "MSLE = \\frac{1}{n} \\sum_{i=1}^n (\\log(1+y_i) - \\log(1+p_i))^2,\n",
    "$$\n",
    "where $y_i$ is the ground truth, and $p_i$ is our prediction."
   ]
  },
  {
   "cell_type": "markdown",
   "metadata": {},
   "source": [
    "Let's start with implementing the loss function."
   ]
  },
  {
   "cell_type": "code",
   "execution_count": 55,
   "metadata": {},
   "outputs": [],
   "source": [
    "from statistics import mean\n",
    "from math import log\n",
    "\n",
    "def msle(ys, ps):\n",
    "    assert len(ys) == len(ps)\n",
    "    #################################\n",
    "    # TODO: Implement this function #\n",
    "    #################################\n",
    "    return mean((map(lambda pair: (pair[1]  - pair[0]) ** 2, map(lambda p: log(1 + p), zip(ys, ps)))))"
   ]
  },
  {
   "cell_type": "markdown",
   "metadata": {},
   "source": [
    "The simplest model is predicting the same constant for each instance. Test your implementation of msle against outputing the mean price."
   ]
  },
  {
   "cell_type": "code",
   "execution_count": 5,
   "metadata": {},
   "outputs": [],
   "source": [
    "from statistics import mean\n",
    "###################################################\n",
    "# TODO: Compute msle for outputing the mean price #\n",
    "###################################################\n",
    "\n",
    "def mean_msle(ys):\n",
    "    m = mean(ys)\n",
    "    return msle(ys, [m] * len(ys))"
   ]
  },
  {
   "cell_type": "markdown",
   "metadata": {},
   "source": [
    "Recall that outputing the mean minimzes $MSE$. However, we're now dealing with $MSLE$.\n",
    "\n",
    "Think of a constant that should result in the lowest $MSLE$."
   ]
  },
  {
   "cell_type": "code",
   "execution_count": 104,
   "metadata": {},
   "outputs": [],
   "source": [
    "from statistics import mean\n",
    "from math import log\n",
    "#############################################\n",
    "# TODO: Find this constant and compute msle #\n",
    "#############################################\n",
    "def basic_msle(ys):\n",
    "    m = mean(map(log, ys))\n",
    "    return msle(ys, [m] * len(ys))"
   ]
  },
  {
   "cell_type": "code",
   "execution_count": 3,
   "metadata": {},
   "outputs": [
    {
     "name": "stdout",
     "output_type": "stream",
     "text": [
      "[ 104    0    0  104    0    4    4 1940    1    1    0    1    4]\n"
     ]
    }
   ],
   "source": [
    "import pandas\n",
    "import numpy\n",
    "import numpy as np\n",
    "from math import log\n",
    "\n",
    "data_file = \"mieszkania.csv\"\n",
    "data_f = None\n",
    "\n",
    "\n",
    "def create_features(filename):\n",
    "    global data_f\n",
    "    df = pandas.read_csv(filename)\n",
    "    data_f = df\n",
    "    averages = df.groupby([\"dzielnica\"]).mean()[\"cena\"]\n",
    "    neighs = list(set(df[\"dzielnica\"]))\n",
    "    \n",
    "    xs = []\n",
    "    ys = []\n",
    "    \n",
    "    for i in range(len(df)):\n",
    "        x = []\n",
    "        for col in df:\n",
    "            if col == \"dzielnica\":\n",
    "                neighs_l = [0] * len(neighs)\n",
    "                neighs_l[neighs.index(df[col][i])] = 1\n",
    "                x.extend(neighs_l)\n",
    "                continue\n",
    "            if col == \"cena\":\n",
    "                ys.append(df[col][i])\n",
    "                continue\n",
    "            x.append(df[col][i])\n",
    "        x.append(1)\n",
    "        xs.append(x)\n",
    "    \n",
    "    return np.array(xs), np.array(ys)\n",
    "\n",
    "\n",
    "xs, ys = create_features(data_file)\n",
    "xs = engineer_features(xs)\n",
    "ys = np.fromiter(map(lambda y: log(y + 1), ys), dtype=np.float)\n",
    "N = len(xs)\n",
    "print(xs[0])"
   ]
  },
  {
   "cell_type": "code",
   "execution_count": 39,
   "metadata": {},
   "outputs": [
    {
     "data": {
      "text/plain": [
       "<matplotlib.collections.PathCollection at 0x7ff9479d1390>"
      ]
     },
     "execution_count": 39,
     "metadata": {},
     "output_type": "execute_result"
    },
    {
     "data": {
      "image/png": "[encoded data removed]",
      "text/plain": [
       "<Figure size 792x792 with 1 Axes>"
      ]
     },
     "metadata": {
      "needs_background": "light"
     },
     "output_type": "display_data"
    }
   ],
   "source": [
    "import matplotlib.pyplot as plt\n",
    "from math import exp, sqrt\n",
    "import seaborn as sns\n",
    "\n",
    "data_f = pandas.read_csv(\"mieszkania_test.csv\")\n",
    "fig = plt.figure(figsize=(11, 11))\n",
    "plt.scatter(list(map(lambda x: log(x + 1), data_f[\"m2\"].tolist())), \n",
    "            list(map(lambda x: log(x + 1), data_f[\"cena\"].tolist())))"
   ]
  },
  {
   "cell_type": "markdown",
   "metadata": {},
   "source": [
    "Now, let's implement a standard linear regression model. "
   ]
  },
  {
   "cell_type": "code",
   "execution_count": 299,
   "metadata": {},
   "outputs": [
    {
     "name": "stdout",
     "output_type": "stream",
     "text": [
      "Iter:   0 Loss: 168.71228640 vec: \n",
      "Iter: 485 Loss: 0.34920506 vec: \n",
      "Iter: 970 Loss: 0.33833478 vec: \n",
      "Iter: 1455 Loss: 0.32811446 vec: \n",
      "Iter: 1940 Loss: 0.31850414 vec: \n",
      "Iter: 2425 Loss: 0.30946631 vec: \n",
      "Iter: 2910 Loss: 0.30096576 vec: \n",
      "Iter: 3395 Loss: 0.29296949 vec: \n",
      "Iter: 3880 Loss: 0.28544649 vec: \n",
      "Iter: 4365 Loss: 0.27836768 vec: \n",
      "Iter: 4850 Loss: 0.27170577 vec: \n"
     ]
    }
   ],
   "source": [
    "import numpy as np\n",
    "from statistics import mean\n",
    "\n",
    "##########################################################\n",
    "# TODO: Implement linear regression and compute its msle #\n",
    "##########################################################\n",
    "\n",
    "lr = 0.0000005 # step size\n",
    "\n",
    "xsT = np.transpose(xs)\n",
    "n_epochs = 4851 # number of passes over the training data\n",
    "vec = np.zeros(len(xs[0]))\n",
    "constant = np.dot(xsT, ys)\n",
    "\n",
    "def predict(vec, xM=xs):\n",
    "    return np.dot(xM, vec)\n",
    "\n",
    "def evaluate(vec, xM=xs, ys=ys):\n",
    "    prediction = predict(vec)\n",
    "    diff = ys - prediction\n",
    "    return np.dot(np.transpose(diff), diff) / len(xs)\n",
    "\n",
    "losses = []\n",
    "\n",
    "for i in range(n_epochs):\n",
    "    loss = evaluate(vec)\n",
    "    losses.append(loss)\n",
    "    gradient = (np.dot(xsT, predict(vec)) - constant) / N\n",
    "    vec -= lr * gradient\n",
    "    \n",
    "    if i % (int(n_epochs / 10)) == 0:\n",
    "        print('Iter: {:>3} Loss: {:8.8f} vec: '.format(i, loss))"
   ]
  },
  {
   "cell_type": "markdown",
   "metadata": {},
   "source": [
    "Note that the loss function that the algorithms optimizes (i.e $MSE$) differs from $MSLE$. We've already seen that this may result in a suboptimal solution.\n",
    "\n",
    "How can you change the setting so that we optimze $MSLE$ instead?"
   ]
  },
  {
   "cell_type": "markdown",
   "metadata": {},
   "source": [
    "Hint: \n",
    "<sub><sup><sub><sup><sub><sup>\n",
    "Be lazy. We don't want to change the algorithm.\n",
    "</sup></sub></sup></sub></sup></sub>"
   ]
  },
  {
   "cell_type": "code",
   "execution_count": 181,
   "metadata": {},
   "outputs": [
    {
     "name": "stdout",
     "output_type": "stream",
     "text": [
      "0.3648896122133589\n"
     ]
    }
   ],
   "source": [
    "#############################################\n",
    "# TODO: Optimize msle and compare the error #\n",
    "#############################################\n",
    "print(basic_msle(ys))"
   ]
  },
  {
   "cell_type": "markdown",
   "metadata": {},
   "source": [
    "Without any feature engineering our model approximates the price as a linear combination of original features:\n",
    "$$\n",
    "\\text{price} \\approx w_1 \\cdot \\text{area} + w_2 \\cdot \\text{district} + \\dots.\n",
    "$$\n",
    "Let's now introduce some interactions between the variables. For instance, let's consider a following formula:\n",
    "$$\n",
    "\\text{price} \\approx w_1 \\cdot \\text{area} \\cdot \\text{avg. price in the district per sq. meter} + w_2 \\cdot \\dots + \\dots.\n",
    "$$\n",
    "Here, we model the price with far greater granularity, and we may expect to see more acurate results."
   ]
  },
  {
   "cell_type": "markdown",
   "metadata": {},
   "source": [
    "Add some feature engineering to your model. Be sure to play with the data and not with the algorithm's code. \n",
    "\n",
    "Think how to make sure that your model is capable of capturing the $w_1 \\cdot \\text{area} \\cdot \\text{avg. price...}$ part, without actually computing the averages."
   ]
  },
  {
   "cell_type": "markdown",
   "metadata": {},
   "source": [
    "Hint: \n",
    "<sub><sup><sub><sup><sub><sup>\n",
    "Is having a binary encoding for each district and multiplying it by area enough?\n",
    "</sup></sub></sup></sub></sup></sub>"
   ]
  },
  {
   "cell_type": "markdown",
   "metadata": {},
   "source": [
    "Hint 2: \n",
    "<sub><sup><sub><sup><sub><sup>\n",
    "Why not multiply everything together? I.e. (A,B,C) -> (AB,AC,BC).\n",
    "</sup></sub></sup></sub></sup></sub>"
   ]
  },
  {
   "cell_type": "code",
   "execution_count": 2,
   "metadata": {},
   "outputs": [],
   "source": [
    "###############################################\n",
    "# TODO: Implement the feature engieering part #\n",
    "###############################################\n",
    "def engineer_features(xs):\n",
    "    result = []\n",
    "    for x in xs:\n",
    "        n = len(x)\n",
    "        l = list(x)\n",
    "        for i in range(1, 5):\n",
    "            # multiplying by area\n",
    "            l[i] *= x[0]\n",
    "        l.append(1 if x[5] >= 3 else 0) # rooms for sleeping\n",
    "        l.append(1 if x[6] >= 2 else 0) # bathrooms\n",
    "        l.append(x[5] * x[6])\n",
    "        l[5] **= 2\n",
    "        l[6] **= 2\n",
    "        result.append(l)\n",
    "    return np.array(result)"
   ]
  },
  {
   "cell_type": "code",
   "execution_count": 279,
   "metadata": {},
   "outputs": [
    {
     "name": "stdout",
     "output_type": "stream",
     "text": [
      "0.3648896122133589\n",
      "0.0685996479714147\n",
      "2.38904599005407 322227.9999999997\n",
      "1.9071752879087667 295879.00000000006\n",
      "1.7251731934011802 306531.0\n",
      "2.857232990599201 553642.0\n",
      "7.045926959419039 985348.9999999994\n",
      "4.802825130548039 695727.0000000002\n",
      "1.2614388801819223 99751.99999999996\n",
      "5.3662639767244364 891262.0000000005\n",
      "2.648553354301068 536499.9999999999\n",
      "3.567253069839995 527094.0000000005\n",
      "5.121435205574337 861472.9999999997\n",
      "3.9110590179999694 701472.9999999995\n",
      "2.8702165969312365 429776.99999999965\n",
      "3.5673359833837606 547726.0000000005\n",
      "4.8619383967449785 669561.0000000002\n",
      "1.8009207775907492 318363.0\n",
      "9.065336791547152 1140170.9999999993\n",
      "1.8208139946213897 341242.9999999997\n",
      "1.3950380394672028 113580.99999999996\n",
      "2.3147748648441047 456094.0000000003\n",
      "3.29122861728505 470730.9999999998\n",
      "2.4783494503204864 421013.0000000002\n",
      "4.025388664094748 617319.0\n",
      "5.29002989444747 796117.9999999994\n",
      "1.4525617398118864 138901.99999999997\n",
      "4.854160401538442 857821.0\n",
      "7.045763194980803 939451.0000000005\n",
      "2.5053876519859744 398166.00000000035\n",
      "6.465381164375514 944400.0\n",
      "8.259757896033008 1025414.0000000005\n",
      "3.065394406238113 522441.0000000001\n",
      "2.0607714345012926 344346.99999999994\n",
      "1.5741635596447654 145703.00000000003\n",
      "1.583028370027444 246713.00000000006\n",
      "3.533622025735494 574154.9999999999\n",
      "4.476120902453502 807609.0000000001\n",
      "2.900310740520115 568048.9999999997\n",
      "2.4307980947953447 412495.00000000035\n",
      "3.8027358394564597 588841.0000000005\n",
      "4.323868399596513 766040.9999999998\n",
      "6.558705554381755 979540.9999999992\n",
      "7.912408592798716 1044804.0000000008\n",
      "4.153531689384458 742236.0000000002\n",
      "4.513717503950693 758937.0000000005\n",
      "2.1907519796112935 388673.0000000001\n",
      "1.339979379118424 178238.99999999985\n",
      "2.5056354906297713 530053.9999999997\n",
      "8.163789897362493 1150688.000000001\n",
      "3.7109140631915873 587014.0000000005\n",
      "1.7500344886664123 269316.9999999999\n",
      "1.9264635679574953 270970.0000000002\n",
      "6.611991725426316 1008103.9999999997\n",
      "1.986514747295478 299708.9999999999\n",
      "2.078426226663481 393925.99999999965\n",
      "3.243630320242235 511106.99999999994\n",
      "6.711678984730758 947932.9999999993\n",
      "1.542822562390506 127717.99999999994\n",
      "5.361678598075027 752428.9999999999\n",
      "9.340748809610314 1185933.0000000002\n",
      "2.132618139370275 330989.0\n",
      "1.9331300961419733 330699.9999999998\n",
      "2.418450415101434 403778.99999999977\n",
      "3.8276992445807854 584561.9999999999\n",
      "5.848773298620951 795392.9999999999\n",
      "4.325008593019268 602356.9999999998\n",
      "3.9111499226138866 680512.9999999999\n",
      "1.4735287075540646 202122.00000000017\n",
      "5.6928987303849174 888872.9999999994\n",
      "2.9413047631191223 456055.00000000006\n",
      "1.5913866433248507 227842.00000000017\n",
      "2.0901099436584967 343730.99999999994\n",
      "1.512035263274433 196727.0000000001\n",
      "2.3497287297472704 378905.0000000001\n",
      "2.2118773960257214 411750.00000000023\n",
      "1.3914339613326108 147094.99999999994\n",
      "3.161332060028097 500023.00000000006\n",
      "1.759555024747222 199291.00000000003\n",
      "7.355465086506314 1005526.0000000008\n",
      "1.6644947416685263 279706.0000000002\n",
      "3.789447694391661 575550.9999999995\n",
      "3.4612109051463524 472981.9999999996\n",
      "4.281588218964663 621615.0000000001\n",
      "3.853617281570405 643572.0000000005\n",
      "5.525043587299239 851575.0000000005\n",
      "1.4523927724183923 187484.00000000012\n",
      "2.027978163677102 339097.0000000002\n",
      "2.0861354498604823 354683.0000000003\n",
      "1.4984040622729606 187714.00000000012\n",
      "1.4547640272978728 166137.00000000006\n",
      "3.854011974077528 703704.9999999995\n",
      "3.165308840621971 539706.0000000002\n",
      "4.752338885623565 734809.9999999998\n",
      "2.111762562393129 304625.0\n",
      "1.778347053817275 293955.0\n",
      "3.800549282276711 679961.9999999998\n",
      "4.04687034527373 635921.0000000003\n",
      "2.137754177557604 330153.0000000002\n",
      "2.508853024113754 391860.99999999977\n",
      "4.924227663923857 789961.9999999999\n",
      "2.4554492656061515 399879.0000000001\n",
      "1.8761753539681278 351221.9999999997\n",
      "2.2664695475444465 375939.99999999977\n",
      "8.14222908476757 1079542.999999999\n",
      "2.48029277911453 332133.99999999977\n",
      "3.4612109051463524 530085.9999999997\n",
      "2.9774371955373073 513587.99999999965\n",
      "7.125520299910457 980895.0000000005\n",
      "1.590090483571161 134902.9999999999\n",
      "5.848252699614138 919498.9999999994\n",
      "2.609154263264281 483189.00000000035\n",
      "2.111257061355697 334802.99999999977\n",
      "2.2427616002531927 378666.9999999997\n",
      "1.3950380394672028 69822.0\n",
      "1.7953821963574719 260449.9999999998\n",
      "3.2835529860385364 484787.99999999977\n",
      "4.279719228906356 794269.0000000003\n",
      "1.2870937463098546 97155.00000000007\n",
      "5.442981192180449 886722.9999999998\n",
      "8.026559157857829 1056621.999999999\n",
      "4.921779230185255 697442.0000000003\n",
      "3.2583382075131224 497640.9999999996\n",
      "2.653406568149905 505772.00000000006\n",
      "5.6928987303849174 871711.9999999997\n",
      "5.296489303524805 697181.0000000005\n",
      "3.2835529860385364 496003.0000000003\n",
      "2.3497287297472704 473489.9999999996\n",
      "1.9071230818233649 242682.99999999985\n",
      "5.865853443929204 879456.0\n",
      "1.8675284621843034 287795.0000000001\n",
      "2.8270841604050765 461690.0000000001\n",
      "1.2906294012894133 153665.0000000001\n",
      "1.5168817049620913 180045.00000000003\n",
      "7.250635009767416 1017479.9999999997\n",
      "1.9864685758728229 309835.0000000002\n",
      "9.340531707944297 1158387.0000000005\n",
      "3.6931620772116243 705668.0000000006\n",
      "2.9136983923476354 465605.9999999997\n",
      "1.313270375454912 88520.00000000004\n",
      "5.204155959679707 833272.9999999997\n",
      "3.437862153285998 610061.0\n",
      "3.165308840621971 527289.0\n",
      "4.249814757105818 656698.0000000002\n",
      "4.924113212925178 858703.0000000007\n",
      "4.196343427346743 639827.9999999999\n",
      "6.282697251773589 921956.9999999998\n",
      "5.865989783764569 923814.0000000002\n",
      "6.227830754900668 953496.9999999993\n",
      "2.798767058440436 405743.0000000003\n",
      "4.153531689384458 692810.9999999994\n",
      "7.019849494577886 1049653.9999999995\n",
      "7.045926959419039 1068931.0000000002\n",
      "5.920760115448379 824801.0000000005\n",
      "1.480220308944306 201399.99999999983\n",
      "2.539673006958652 438856.9999999998\n",
      "4.449491426224843 724136.9999999997\n",
      "2.648553354301068 482714.99999999977\n",
      "3.71082781254488 643547.0000000003\n",
      "3.496230419123615 519852.9999999996\n",
      "3.7968573338658853 742507.9999999993\n",
      "1.261468199763615 85814.00000000006\n",
      "1.8761753539681278 329828.9999999997\n",
      "6.142223171634881 807843.9999999999\n",
      "3.0792151187464216 562540.9999999998\n",
      "4.279719228906356 797490.0\n",
      "1.3498893750640686 186173.00000000006\n",
      "1.8800816230339756 303513.0000000002\n",
      "3.9122088276562725 682735.9999999997\n",
      "4.476224940781896 758842.0000000003\n",
      "2.8008465551061583 463684.00000000035\n",
      "8.14222908476757 1078682.9999999995\n",
      "3.461130458206899 533095.9999999999\n",
      "2.661379669758529 463228.00000000035\n",
      "6.513785101547113 918460.0000000003\n",
      "8.411616705119199 1059928.0000000002\n",
      "7.912348551657399 1049521.9999999995\n",
      "1.2586491581018564 128616.99999999996\n",
      "3.1546011390114437 614596.9999999998\n",
      "2.530736427400593 419142.0000000003\n",
      "1.2170640259181351 161540.99999999988\n",
      "5.6020119926176 867444.9999999994\n",
      "3.5888925880664506 615666.0\n",
      "7.91259250064694 1108608.000000001\n",
      "3.2205990102036695 638008.9999999997\n",
      "7.565054850806816 1052664.0000000002\n",
      "1.5120704074594746 166898.00000000012\n",
      "1.2488328760126801 57441.99999999999\n",
      "4.0248756270371135 681938.9999999999\n",
      "1.888064527422968 286713.0000000002\n",
      "1.3672633631340807 146809.00000000003\n",
      "6.227830754900668 899113.9999999993\n",
      "1.6722139850758584 246723.9999999998\n",
      "5.2899069413173985 858217.9999999995\n",
      "6.513785101547113 936125.0\n",
      "2.7700987836718083 515312.0000000003\n",
      "1.4968901687901783 151429.99999999988\n",
      "1.3716670077218152 146077.99999999997\n",
      "5.848252699614138 857547.0000000001\n",
      "2.977506400010438 508226.00000000023\n",
      "1.6323665384604786 208684.00000000006\n",
      "1.9854852145858193 279892.00000000006\n"
     ]
    }
   ],
   "source": [
    "import numpy as np\n",
    "from math import exp\n",
    "##############################################################\n",
    "# TODO: Test your solution on the training and test datasets #\n",
    "##############################################################\n",
    "test_file = \"mieszkania_test.csv\"\n",
    "\n",
    "testXs, testYs = create_features(test_file)\n",
    "testXs = engineer_features(testXs)\n",
    "testYs = np.fromiter(map(lambda y: log(y + 1), testYs), dtype=np.float)\n",
    "\n",
    "def error(ps, ys=testYs):\n",
    "    diff = ps - ys\n",
    "    return np.dot(np.transpose(diff), diff) / len(ys)\n",
    "\n",
    "predictions = predict(vec, xM=testXs)\n",
    "\n",
    "mean_error = error([mean(ys)] * len(ys), ys)\n",
    "regression_error = evaluate(vec, xM=testXs)\n",
    "print(mean_error)\n",
    "print(regression_error)\n",
    "\n",
    "for i in range(len(predictions)):\n",
    "    print(exp(predictions[i]), exp(testYs[i]))\n"
   ]
  },
  {
   "cell_type": "code",
   "execution_count": null,
   "metadata": {},
   "outputs": [],
   "source": []
  },
  {
   "cell_type": "code",
   "execution_count": null,
   "metadata": {},
   "outputs": [],
   "source": []
  }
 ],
 "metadata": {
  "kernelspec": {
   "display_name": "Python 2",
   "language": "python",
   "name": "python2"
  },
  "language_info": {
   "codemirror_mode": {
    "name": "ipython",
    "version": 3
   },
   "file_extension": ".py",
   "mimetype": "text/x-python",
   "name": "python",
   "nbconvert_exporter": "python",
   "pygments_lexer": "ipython3",
   "version": "3.6.7"
  }
 },
 "nbformat": 4,
 "nbformat_minor": 1
}
